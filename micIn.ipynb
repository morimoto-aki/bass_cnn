{
 "cells": [
  {
   "cell_type": "code",
   "execution_count": 1,
   "metadata": {},
   "outputs": [],
   "source": [
    "import numpy as np\n",
    "import sys\n",
    "\n",
    "import pyqtgraph as pg\n",
    "from pyqtgraph.Qt import QtCore, QtGui\n",
    "\n",
    "import pyaudio"
   ]
  },
  {
   "cell_type": "code",
   "execution_count": 2,
   "metadata": {},
   "outputs": [],
   "source": [
    "sample_rate = 16000\n",
    "frame_length = 1024\n",
    "frame_shift = 80"
   ]
  },
  {
   "cell_type": "code",
   "execution_count": 3,
   "metadata": {},
   "outputs": [],
   "source": [
    "class PlotWindow:\n",
    "    def __init__(self):\n",
    "\n",
    "        self.win = pg.GraphicsWindow()\n",
    "        self.win.setWindowTitle(u\"波形のリアルタイムプロット\")\n",
    "        self.win.resize(1100, 800)\n",
    "        self.plt = self.win.addPlot()  # プロットのビジュアル関係\n",
    "        self.ymin = -100\n",
    "        self.ymax = 80\n",
    "        self.plt.setYRange(-1.0, 1.0)  # y軸の上限、下限の設定\n",
    "        self.curve = self.plt.plot()  # プロットデータを入れる場所\n",
    "\n",
    "        # マイク設定\n",
    "        self.CHUNK = frame_length  # 1度に読み取る音声のデータ幅\n",
    "        self.RATE = sample_rate  # サンプリング周波数\n",
    "        self.audio = pyaudio.PyAudio()\n",
    "        self.stream = self.audio.open(format=pyaudio.paInt16,\n",
    "                                      channels=1,\n",
    "                                      rate=self.RATE,\n",
    "                                      input=True,\n",
    "                                      output=True,\n",
    "                                      frames_per_buffer=self.CHUNK)\n",
    "\n",
    "        # アップデート時間設定\n",
    "        self.timer = QtCore.QTimer()\n",
    "        self.timer.timeout.connect(self.update)\n",
    "        self.timer.start(5) \n",
    "\n",
    "        self.data = np.zeros(self.CHUNK)\n",
    "\n",
    "    def update(self):\n",
    "        self.data = self.AudioInput()\n",
    "        self.curve.setData(self.data)\n",
    "\n",
    "    def AudioInput(self):\n",
    "        ret = self.stream.read(self.CHUNK)\n",
    "        ret = np.frombuffer(ret, dtype=\"int16\") / 32768\n",
    "        return ret\n"
   ]
  },
  {
   "cell_type": "code",
   "execution_count": 5,
   "metadata": {},
   "outputs": [
    {
     "name": "stderr",
     "output_type": "stream",
     "text": [
      "/Users/aki/opt/anaconda3/lib/python3.7/site-packages/ipykernel_launcher.py:2: RuntimeWarning: Visible window deleted. To prevent this, store a reference to the window object.\n",
      "  \n"
     ]
    }
   ],
   "source": [
    "if __name__ == \"__main__\":\n",
    "    plotwin = PlotWindow()\n",
    "\n",
    "    if (sys.flags.interactive != 1) or not hasattr(QtCore, 'PYQT_VERSION'):\n",
    "        QtGui.QApplication.instance().exec_()"
   ]
  },
  {
   "cell_type": "code",
   "execution_count": null,
   "metadata": {},
   "outputs": [],
   "source": []
  },
  {
   "cell_type": "code",
   "execution_count": null,
   "metadata": {},
   "outputs": [],
   "source": []
  }
 ],
 "metadata": {
  "kernelspec": {
   "display_name": "Python 3",
   "language": "python",
   "name": "python3"
  },
  "language_info": {
   "codemirror_mode": {
    "name": "ipython",
    "version": 3
   },
   "file_extension": ".py",
   "mimetype": "text/x-python",
   "name": "python",
   "nbconvert_exporter": "python",
   "pygments_lexer": "ipython3",
   "version": "3.7.9"
  }
 },
 "nbformat": 4,
 "nbformat_minor": 4
}
