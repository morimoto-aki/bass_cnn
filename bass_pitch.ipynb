{
 "cells": [
  {
   "cell_type": "code",
   "execution_count": 1,
   "metadata": {},
   "outputs": [],
   "source": [
    "# Read in a WAV and find the freq's\n",
    "import pyaudio\n",
    "import wave\n",
    "import numpy as np\n",
    "import json\n",
    "\n",
    "chunk = 2048\n",
    "l =[]"
   ]
  },
  {
   "cell_type": "code",
   "execution_count": 2,
   "metadata": {},
   "outputs": [
    {
     "name": "stdout",
     "output_type": "stream",
     "text": [
      "チャンネル数: 1\n",
      "サンプル幅: 2\n",
      "サンプリング周波数: 44100\n",
      "フレーム数: 294912\n",
      "パラメータ: _wave_params(nchannels=1, sampwidth=2, framerate=44100, nframes=294912, comptype='NONE', compname='not compressed')\n"
     ]
    },
    {
     "data": {
      "text/plain": [
       "' \\n   format  : ストリームを読み書きするときのデータ型\\n   channels: ステレオかモノラルかの選択 1でモノラル 2でステレオ\\n   rate    : サンプル周波数\\n   output  : 出力モード\\n\\n'"
      ]
     },
     "execution_count": 2,
     "metadata": {},
     "output_type": "execute_result"
    }
   ],
   "source": [
    "# open up a wave\n",
    "wf = wave.open('3A_1.wav', 'rb')\n",
    "swidth = wf.getsampwidth()\n",
    "RATE = wf.getframerate()\n",
    "\n",
    "print('チャンネル数:', wf.getnchannels()) # モノラルなら1，ステレオなら2\n",
    "print('サンプル幅:', wf.getsampwidth()) # バイト数 (1byte=8bit)\n",
    "print('サンプリング周波数:', wf.getframerate()) # CDは44100Hz\n",
    "print('フレーム数:', wf.getnframes()) # サンプリング周波数で割れば時間\n",
    "print('パラメータ:', wf.getparams()) # 上記+αのパラメータをタプルで返す\n",
    "\n",
    "# use a Blackman window\n",
    "window = np.blackman(chunk)\n",
    "# open stream\n",
    "p = pyaudio.PyAudio()\n",
    "stream = p.open(format =\n",
    "                p.get_format_from_width(wf.getsampwidth()),\n",
    "                channels = wf.getnchannels(),\n",
    "                rate = RATE,\n",
    "                output = True)\n",
    "\n",
    "\n",
    "\"\"\" \n",
    "   format  : ストリームを読み書きするときのデータ型\n",
    "   channels: ステレオかモノラルかの選択 1でモノラル 2でステレオ\n",
    "   rate    : サンプル周波数\n",
    "   output  : 出力モード\n",
    "\n",
    "\"\"\""
   ]
  },
  {
   "cell_type": "code",
   "execution_count": 3,
   "metadata": {},
   "outputs": [],
   "source": [
    "# read some data\n",
    "data = wf.readframes(chunk)"
   ]
  },
  {
   "cell_type": "code",
   "execution_count": 4,
   "metadata": {},
   "outputs": [
    {
     "name": "stdout",
     "output_type": "stream",
     "text": [
      "The freq is 67.56494346774349 Hz.\n",
      "The freq is 53.47160898562273 Hz.\n",
      "The freq is 109.61933592491565 Hz.\n",
      "The freq is 111.57328701005984 Hz.\n",
      "The freq is 109.81353162518884 Hz.\n",
      "The freq is 109.63883325931882 Hz.\n",
      "The freq is 112.1962073787401 Hz.\n",
      "The freq is 106.40269673904415 Hz.\n",
      "The freq is 114.04332869025272 Hz.\n",
      "The freq is 104.9183375955046 Hz.\n",
      "The freq is 114.23709834095793 Hz.\n",
      "The freq is 106.03866514171449 Hz.\n",
      "The freq is 112.27575298404102 Hz.\n",
      "The freq is 109.95191611962512 Hz.\n",
      "The freq is 107.41357628655985 Hz.\n",
      "The freq is 114.3950626572577 Hz.\n",
      "The freq is 103.66645791463742 Hz.\n",
      "The freq is 115.95813586985153 Hz.\n",
      "The freq is 103.32493764507272 Hz.\n",
      "The freq is 114.66201344495227 Hz.\n",
      "The freq is 106.46673291115118 Hz.\n",
      "The freq is 110.47226465558995 Hz.\n",
      "The freq is 111.638714463267 Hz.\n",
      "The freq is 106.01332834628454 Hz.\n",
      "The freq is 114.28611049453058 Hz.\n",
      "The freq is 104.32698404524223 Hz.\n",
      "The freq is 114.53551179559652 Hz.\n",
      "The freq is 105.27925132169958 Hz.\n",
      "The freq is 113.09354430347963 Hz.\n",
      "The freq is 108.25746775069938 Hz.\n",
      "The freq is 110.20326614368592 Hz.\n",
      "The freq is 110.03808776735974 Hz.\n",
      "The freq is 108.77177366685633 Hz.\n",
      "The freq is 110.31091789710432 Hz.\n",
      "The freq is 108.58587379180601 Hz.\n",
      "The freq is 110.48162579664942 Hz.\n",
      "The freq is 108.50192595550591 Hz.\n",
      "The freq is 112.027027627872 Hz.\n",
      "The freq is 106.69484917149532 Hz.\n",
      "The freq is 113.16770424342208 Hz.\n",
      "The freq is 105.33386176215971 Hz.\n",
      "The freq is 113.3024151321669 Hz.\n",
      "The freq is 105.49615907689433 Hz.\n",
      "The freq is 112.54575602704149 Hz.\n",
      "The freq is 107.96260591345705 Hz.\n",
      "The freq is 108.60323480812816 Hz.\n",
      "The freq is 112.81038978369816 Hz.\n",
      "The freq is 103.88147242958364 Hz.\n",
      "The freq is 115.75058900595171 Hz.\n",
      "The freq is 102.07702129604493 Hz.\n",
      "The freq is 115.79841666300295 Hz.\n",
      "The freq is 103.52627487439841 Hz.\n",
      "The freq is 112.81906800123107 Hz.\n",
      "The freq is 108.51398170151984 Hz.\n",
      "The freq is 107.30473110529304 Hz.\n",
      "The freq is 113.39090525052038 Hz.\n",
      "The freq is 103.25774703598486 Hz.\n",
      "The freq is 115.57308310061643 Hz.\n",
      "The freq is 102.30023830123241 Hz.\n",
      "The freq is 115.27331120485692 Hz.\n",
      "The freq is 104.54155344046379 Hz.\n",
      "The freq is 111.9946911770511 Hz.\n",
      "The freq is 108.48296561646106 Hz.\n",
      "The freq is 108.05382853094886 Hz.\n",
      "The freq is 111.29317238438784 Hz.\n",
      "The freq is 106.06120100887213 Hz.\n",
      "The freq is 112.1299799612757 Hz.\n",
      "The freq is 105.7056321109306 Hz.\n",
      "The freq is 112.57008500352897 Hz.\n",
      "The freq is 63.797876187046434 Hz.\n",
      "The freq is 112.92254483533888 Hz.\n",
      "The freq is 62.44027700626343 Hz.\n",
      "The freq is 111.62194392246049 Hz.\n",
      "The freq is 59.498297739038954 Hz.\n",
      "The freq is 111.00719398689031 Hz.\n",
      "The freq is 107.28047665628091 Hz.\n",
      "The freq is 59.563836168172855 Hz.\n",
      "The freq is 110.58949626567546 Hz.\n",
      "The freq is 62.21716824445029 Hz.\n",
      "The freq is 114.34075469896932 Hz.\n",
      "The freq is 62.98117414332643 Hz.\n",
      "The freq is 115.43798570739186 Hz.\n",
      "The freq is 61.48980195347172 Hz.\n",
      "The freq is 114.25250257157654 Hz.\n",
      "The freq is 58.359683081596145 Hz.\n",
      "The freq is 56.68176579304175 Hz.\n",
      "The freq is 55.93858750129097 Hz.\n",
      "The freq is 59.503773909115935 Hz.\n",
      "The freq is 54.522108396066336 Hz.\n",
      "The freq is 61.80317357258537 Hz.\n",
      "The freq is 53.979972253321144 Hz.\n",
      "The freq is 62.00702032900667 Hz.\n",
      "The freq is 54.079366110730696 Hz.\n",
      "The freq is 60.69008025139409 Hz.\n",
      "The freq is 55.011379844794384 Hz.\n",
      "The freq is 57.91751735231294 Hz.\n",
      "The freq is 56.63471408859458 Hz.\n",
      "The freq is 55.43573175153478 Hz.\n",
      "The freq is 59.21615827957756 Hz.\n",
      "The freq is 54.382375628070946 Hz.\n",
      "The freq is 61.12616545672353 Hz.\n",
      "The freq is 54.01375211331712 Hz.\n",
      "The freq is 61.22503527007223 Hz.\n",
      "The freq is 54.195990284056975 Hz.\n",
      "The freq is 59.22314047551088 Hz.\n",
      "The freq is 55.24105089110265 Hz.\n",
      "The freq is 57.225191139094605 Hz.\n",
      "The freq is 57.51211261363767 Hz.\n",
      "The freq is 55.089234308762336 Hz.\n",
      "The freq is 59.52988189652794 Hz.\n",
      "The freq is 54.06885119334224 Hz.\n",
      "The freq is 60.825985100637716 Hz.\n",
      "The freq is 54.04090999917843 Hz.\n",
      "The freq is 60.589215898473896 Hz.\n",
      "The freq is 54.513005861075335 Hz.\n",
      "The freq is 58.52176775336038 Hz.\n",
      "The freq is 55.76949996968853 Hz.\n",
      "The freq is 56.28378297181125 Hz.\n",
      "The freq is 57.49439361048708 Hz.\n",
      "The freq is 54.9880089099148 Hz.\n",
      "The freq is 59.679394307540655 Hz.\n",
      "The freq is 54.19833644914606 Hz.\n",
      "The freq is 60.32317660585034 Hz.\n",
      "The freq is 54.00859292621532 Hz.\n",
      "The freq is 59.898357518699186 Hz.\n",
      "The freq is 54.529349871652975 Hz.\n",
      "The freq is 58.26351120812119 Hz.\n",
      "The freq is 55.766078997569934 Hz.\n",
      "The freq is 56.16351126914232 Hz.\n",
      "The freq is 57.162919543791524 Hz.\n",
      "The freq is 54.78432887538352 Hz.\n",
      "The freq is 112.37289476093764 Hz.\n",
      "The freq is nan Hz.\n",
      "nan\n",
      "The freq is nan Hz.\n",
      "nan\n",
      "The freq is nan Hz.\n",
      "nan\n"
     ]
    },
    {
     "name": "stderr",
     "output_type": "stream",
     "text": [
      "/Users/aki/opt/anaconda3/lib/python3.7/site-packages/ipykernel_launcher.py:19: RuntimeWarning: divide by zero encountered in log\n",
      "/Users/aki/opt/anaconda3/lib/python3.7/site-packages/ipykernel_launcher.py:20: RuntimeWarning: invalid value encountered in double_scalars\n"
     ]
    },
    {
     "name": "stdout",
     "output_type": "stream",
     "text": [
      "The freq is nan Hz.\n",
      "nan\n",
      "The freq is nan Hz.\n",
      "nan\n",
      "The freq is nan Hz.\n",
      "nan\n",
      "The freq is nan Hz.\n",
      "nan\n",
      "The freq is nan Hz.\n",
      "nan\n",
      "The freq is nan Hz.\n",
      "nan\n",
      "The freq is nan Hz.\n",
      "nan\n",
      "The freq is nan Hz.\n",
      "nan\n",
      "The freq is nan Hz.\n",
      "nan\n"
     ]
    }
   ],
   "source": [
    "# play stream and find the frequency of each chunk\n",
    "# dataの要素数＝＝chunk*swidth(2048*サンプル幅)になるまで\n",
    "while len(data) == chunk*swidth:\n",
    "    # write data out to the audio stream\n",
    "    stream.write(data)\n",
    "    \n",
    "    # unpack the data and times by the hamming window\n",
    "    indata = np.array(wave.struct.unpack(\"%dh\"%(len(data)/swidth),\\\n",
    "                                         data))*window\n",
    "    \n",
    "    # Take the fft and square each value\n",
    "    fftData=abs(np.fft.rfft(indata))**2\n",
    "    \n",
    "    # find the maximum\n",
    "    which = fftData[1:].argmax() + 1\n",
    "    \n",
    "    # use quadratic interpolation around the max\n",
    "    if which != len(fftData)-1:\n",
    "        y0,y1,y2 = np.log(fftData[which-1:which+2:])\n",
    "        x1 = (y2 - y0) * .5 / (2 * y1 - y2 - y0)\n",
    "        # find the frequency and output it\n",
    "        thefreq = (which+x1)*RATE/chunk\n",
    "        hz = \"The freq is {} Hz.\" .format (thefreq)\n",
    "        print(hz)\n",
    "        if np.isnan(thefreq):\n",
    "            print(\"nan\")\n",
    "        else:\n",
    "            l.append(thefreq)\n",
    "    else:\n",
    "        hz = \"The freq is {} Hz.\" .format (thefreq)\n",
    "        print(hz)\n",
    "        if np.isnan(thefreq):\n",
    "             print(average(l))\n",
    "        else:\n",
    "            l.append(thefreq)\n",
    "    # read some more data\n",
    "    data = wf.readframes(chunk)\n",
    "    "
   ]
  },
  {
   "cell_type": "code",
   "execution_count": 5,
   "metadata": {},
   "outputs": [
    {
     "name": "stdout",
     "output_type": "stream",
     "text": [
      "87.76443353953239\n"
     ]
    }
   ],
   "source": [
    "freq_ave=np.average(l)\n",
    "print(freq_ave)"
   ]
  },
  {
   "cell_type": "code",
   "execution_count": 6,
   "metadata": {},
   "outputs": [],
   "source": [
    "if data:\n",
    "    stream.write(data)\n",
    "stream.close()\n",
    "p.terminate()"
   ]
  },
  {
   "cell_type": "code",
   "execution_count": 7,
   "metadata": {},
   "outputs": [],
   "source": [
    "def getNearestValue(list, num):\n",
    "    \"\"\"\n",
    "    概要: リストからある値に最も近い値を返却する関数\n",
    "    @param list: データ配列\n",
    "    @param num: 対象値\n",
    "    @return 対象値に最も近い値\n",
    "    \"\"\"\n",
    "\n",
    "    # リスト要素と対象値の差分を計算し最小値のインデックスを取得\n",
    "    idx = np.abs(np.asarray(list) - num).argmin()\n",
    "    return list[idx]"
   ]
  },
  {
   "cell_type": "code",
   "execution_count": 8,
   "metadata": {},
   "outputs": [
    {
     "name": "stdout",
     "output_type": "stream",
     "text": [
      "87.307057858251\n"
     ]
    }
   ],
   "source": [
    "json_open = open('bass_freq.json', 'r')\n",
    "json_load = json.load(json_open)\n",
    "freq_list =[]\n",
    "key_list =[]\n",
    "\n",
    "for v in json_load:\n",
    "    freq_list.append(v['freq'])\n",
    "    key_list.append(v['key'])\n",
    "\n",
    "print(getNearestValue(freq_list, freq_ave))"
   ]
  },
  {
   "cell_type": "code",
   "execution_count": 9,
   "metadata": {},
   "outputs": [],
   "source": [
    "freq_num = freq_list.index(getNearestValue(freq_list, freq_ave))"
   ]
  },
  {
   "cell_type": "code",
   "execution_count": 10,
   "metadata": {},
   "outputs": [
    {
     "name": "stdout",
     "output_type": "stream",
     "text": [
      "F\n"
     ]
    }
   ],
   "source": [
    "print(key_list[freq_num])"
   ]
  },
  {
   "cell_type": "code",
   "execution_count": null,
   "metadata": {},
   "outputs": [],
   "source": []
  }
 ],
 "metadata": {
  "kernelspec": {
   "display_name": "Python 3",
   "language": "python",
   "name": "python3"
  },
  "language_info": {
   "codemirror_mode": {
    "name": "ipython",
    "version": 3
   },
   "file_extension": ".py",
   "mimetype": "text/x-python",
   "name": "python",
   "nbconvert_exporter": "python",
   "pygments_lexer": "ipython3",
   "version": "3.7.9"
  }
 },
 "nbformat": 4,
 "nbformat_minor": 4
}
